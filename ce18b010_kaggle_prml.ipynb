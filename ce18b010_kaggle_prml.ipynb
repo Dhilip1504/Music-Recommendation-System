{
  "nbformat": 4,
  "nbformat_minor": 0,
  "metadata": {
    "colab": {
      "provenance": []
    },
    "kernelspec": {
      "name": "python3",
      "display_name": "Python 3"
    },
    "language_info": {
      "name": "python"
    }
  },
  "cells": [
    {
      "cell_type": "code",
      "metadata": {
        "id": "8Hagae2cB-y7"
      },
      "source": [
        "import numpy as np\n",
        "import pandas as pd\n",
        "import math\n",
        "from numba import jit\n",
        "import matplotlib.pyplot as plt\n",
        "from operator import itemgetter"
      ],
      "execution_count": null,
      "outputs": []
    },
    {
      "cell_type": "code",
      "metadata": {
        "id": "zWbPWgl6DWgl"
      },
      "source": [
        "train = pd.read_csv('/content/drive/MyDrive/Kaggle PRML/Dataset/train.csv')\n",
        "songs = pd.read_csv('/content/drive/MyDrive/Kaggle PRML/Dataset/songs.csv')\n",
        "sfl = pd.read_csv('/content/drive/MyDrive/Kaggle PRML/Dataset/save_for_later.csv')\n",
        "song_labels = pd.read_csv('/content/drive/MyDrive/Kaggle PRML/Dataset/song_labels.csv')"
      ],
      "execution_count": null,
      "outputs": []
    },
    {
      "cell_type": "code",
      "metadata": {
        "id": "CuZkbGpVhjUJ"
      },
      "source": [
        "def song_info(songid, songs):\n",
        "  rows = songs.loc[songs[\"song_id\"] == songid]\n",
        "  return rows.iloc[0]"
      ],
      "execution_count": null,
      "outputs": []
    },
    {
      "cell_type": "code",
      "metadata": {
        "id": "4ZXEC4DOhfVJ"
      },
      "source": [
        "def tuple_distance(training_inst, test_inst):\n",
        "  year_dist = 0\n",
        "  try:\n",
        "    year_dist = (float(training_inst[\"released_year\"]) - float(test_inst[\"released_year\"]))**2\n",
        "  except:\n",
        "    pass\n",
        "  #language_dist = 0 if training_inst[\"language\"] == test_inst[\"language\"] else 1\n",
        "  comments_dist = (float(training_inst[\"number_of_comments\"]) - float(test_inst[\"number_of_comments\"]))**2\n",
        "  distance = math.sqrt(year_dist + comments_dist)\n",
        "  return (training_inst, distance)\n",
        "\n",
        "def get_neighbours(training_set, test_inst, k):\n",
        "  distances = [tuple_distance(training_inst, test_inst) for index,training_inst in training_set.iterrows()]\n",
        "  sorted_distances = sorted(distances, key=itemgetter(1))\n",
        "  sorted_training_instances = [tuple[0] for tuple in sorted_distances]\n",
        "  return sorted_training_instances[:k]"
      ],
      "execution_count": null,
      "outputs": []
    },
    {
      "cell_type": "code",
      "metadata": {
        "id": "q2l9AmLwfHwE"
      },
      "source": [
        "def get_neighbour_cust(c_id, sfl_check):\n",
        "  sfl1 = np.tile(sfl_check[c_id][:], (14053, 1))\n",
        "  result = np.multiply(sfl_check,sfl1)\n",
        "  res = np.sum(result, axis=1)\n",
        "  neighbours = np.argsort(res)\n",
        "  return neighbours[14047:]"
      ],
      "execution_count": null,
      "outputs": []
    },
    {
      "cell_type": "code",
      "metadata": {
        "id": "DrOAp8oJF_fJ"
      },
      "source": [
        "cust_avg = train.groupby(\"customer_id\")[\"score\"].mean()\n",
        "song_avg = train.groupby(\"song_id\")[\"score\"].mean()"
      ],
      "execution_count": null,
      "outputs": []
    },
    {
      "cell_type": "code",
      "metadata": {
        "id": "i6TA0I9mpuOS"
      },
      "source": [
        "customer_dict = {}\n",
        "for i,cust in enumerate(train[\"customer_id\"].unique()):\n",
        "  customer_dict[cust] = i"
      ],
      "execution_count": null,
      "outputs": []
    },
    {
      "cell_type": "code",
      "metadata": {
        "id": "9fQ2IlLJ3s6A"
      },
      "source": [
        "scores = np.zeros((14053, 10001))\n",
        "sfl_check = np.zeros((14053, 10001))\n",
        "for index,row in train.iterrows():\n",
        "  s_id = int(row[\"song_id\"])\n",
        "  c_id = int(customer_dict[row[\"customer_id\"]])\n",
        "  scores[c_id][s_id] = row[\"score\"]\n",
        "\n",
        "for index,row in sfl.iterrows():\n",
        "  s_id = int(row[\"song_id\"])\n",
        "  c_id = int(customer_dict[row[\"customer_id\"]])\n",
        "  sfl_check[c_id][s_id] = 1"
      ],
      "execution_count": null,
      "outputs": []
    },
    {
      "cell_type": "code",
      "metadata": {
        "id": "AkpriWgRCYSf"
      },
      "source": [
        "norm_songs = songs.copy()\n",
        "norm_songs[\"released_year\"] = norm_songs[\"released_year\"]/norm_songs[\"released_year\"].abs().max()\n",
        "norm_songs[\"number_of_comments\"] = norm_songs[\"number_of_comments\"]/norm_songs[\"number_of_comments\"].abs().max()"
      ],
      "execution_count": null,
      "outputs": []
    },
    {
      "cell_type": "code",
      "metadata": {
        "colab": {
          "base_uri": "https://localhost:8080/"
        },
        "id": "VefajW-83tBb",
        "outputId": "ed3c351f-e9a2-4dd1-dc2d-dceae627f776"
      },
      "source": [
        "test_inst = song_info(972, norm_songs)\n",
        "for i in get_neighbours(norm_songs, test_inst, 5):\n",
        "  print(i[\"song_id\"])"
      ],
      "execution_count": null,
      "outputs": [
        {
          "output_type": "stream",
          "text": [
            "1526\n",
            "2355\n",
            "1477\n",
            "706\n",
            "1088\n"
          ],
          "name": "stdout"
        }
      ]
    },
    {
      "cell_type": "code",
      "metadata": {
        "colab": {
          "base_uri": "https://localhost:8080/"
        },
        "id": "yUf6IIpq5SwW",
        "outputId": "6f5579cf-9ef3-4305-8cc3-5ec11ea9bb4b"
      },
      "source": [
        "ans = 0\n",
        "dis = 0\n",
        "for n in neighbours:\n",
        "  s_id = n[0][\"song_id\"]\n",
        "  #print(s_id)\n",
        "  c_id = int(customer_dict[\"I24143\"])\n",
        "  #print(c_id)\n",
        "  score1 = scores[c_id][s_id]\n",
        "  if score1 != 0:\n",
        "    ans += score1/n[1]\n",
        "    dis += (1/n[1])\n",
        "print(ans/dis)"
      ],
      "execution_count": null,
      "outputs": [
        {
          "output_type": "stream",
          "text": [
            "3.5831395208352146\n"
          ],
          "name": "stdout"
        }
      ]
    },
    {
      "cell_type": "code",
      "metadata": {
        "colab": {
          "base_uri": "https://localhost:8080/"
        },
        "id": "NQuYGRlV7y8T",
        "outputId": "a6957928-1075-48eb-fd7f-004cbefaf952"
      },
      "source": [
        "get_neighbour_cust(int(customer_dict[\"M38457\"]), sfl_check)"
      ],
      "execution_count": null,
      "outputs": [
        {
          "output_type": "execute_result",
          "data": {
            "text/plain": [
              "array([13053, 12632, 12666,  1578, 10420, 13979])"
            ]
          },
          "metadata": {
            "tags": []
          },
          "execution_count": 50
        }
      ]
    },
    {
      "cell_type": "code",
      "metadata": {
        "id": "eEjoScs69bfg"
      },
      "source": [],
      "execution_count": null,
      "outputs": []
    },
    {
      "cell_type": "code",
      "metadata": {
        "id": "2VzjaJ4oPoLo"
      },
      "source": [],
      "execution_count": null,
      "outputs": []
    },
    {
      "cell_type": "code",
      "metadata": {
        "id": "twvpRVxDQHyg"
      },
      "source": [],
      "execution_count": null,
      "outputs": []
    },
    {
      "cell_type": "code",
      "metadata": {
        "id": "Gw8oj3r0ESJw"
      },
      "source": [
        "temp = songs[\"song_id\"].value_counts()\n",
        "print((temp))\n",
        "print(len(temp))"
      ],
      "execution_count": null,
      "outputs": []
    },
    {
      "cell_type": "code",
      "metadata": {
        "colab": {
          "base_uri": "https://localhost:8080/"
        },
        "id": "17EqEe0gCp5y",
        "outputId": "a753ba4c-8cb3-4cff-e67a-65863b82ce74"
      },
      "source": [
        "temp = np.zeros((3, 3))\n",
        "temp1 = np.zeros((3, 3))\n",
        "temp[1][0] = 1\n",
        "temp[1][2] = 1\n",
        "temp[2][1] =1\n",
        "temp1[1][0] = 1\n",
        "temp1[1][2] = 1\n",
        "temp1[2][1] =1\n",
        "print(temp)\n",
        "print(np.sum(temp, axis=1))\n",
        "res = np.sum(temp, axis=1)\n",
        "print(np.argsort(res))"
      ],
      "execution_count": null,
      "outputs": [
        {
          "output_type": "stream",
          "text": [
            "[[0. 0. 0.]\n",
            " [1. 0. 1.]\n",
            " [0. 1. 0.]]\n",
            "[0. 2. 1.]\n",
            "[0 2 1]\n"
          ],
          "name": "stdout"
        }
      ]
    }
  ]
}