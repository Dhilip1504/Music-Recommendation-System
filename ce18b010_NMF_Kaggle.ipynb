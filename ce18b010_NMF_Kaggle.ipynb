{
  "nbformat": 4,
  "nbformat_minor": 0,
  "metadata": {
    "colab": {
      "provenance": []
    },
    "kernelspec": {
      "name": "python3",
      "display_name": "Python 3"
    },
    "language_info": {
      "name": "python"
    }
  },
  "cells": [
    {
      "cell_type": "code",
      "metadata": {
        "id": "0CSMpqKy7sIF"
      },
      "source": [
        "import numpy as np\n",
        "import pandas as pd\n",
        "import math\n",
        "import matplotlib.pyplot as plt\n",
        "from operator import itemgetter\n",
        "from sklearn.linear_model import LinearRegression, Ridge\n",
        "from sklearn.decomposition import NMF\n",
        "import scipy\n",
        "from scipy import linalg\n",
        "from numpy import dot"
      ],
      "execution_count": null,
      "outputs": []
    },
    {
      "cell_type": "code",
      "metadata": {
        "id": "3okDIN4370pI"
      },
      "source": [
        "train = pd.read_csv('/content/drive/MyDrive/Kaggle PRML/Dataset/train.csv')\n",
        "songs = pd.read_csv('/content/drive/MyDrive/Kaggle PRML/Dataset/songs.csv')\n",
        "sfl = pd.read_csv('/content/drive/MyDrive/Kaggle PRML/Dataset/save_for_later.csv')\n",
        "song_labels = pd.read_csv('/content/drive/MyDrive/Kaggle PRML/Dataset/song_labels.csv')\n",
        "test = pd.read_csv('/content/drive/MyDrive/Kaggle PRML/Dataset/test.csv')"
      ],
      "execution_count": null,
      "outputs": []
    },
    {
      "cell_type": "code",
      "metadata": {
        "id": "q6IVzbq-8DM2"
      },
      "source": [
        "customer_dict = {}\n",
        "for i,cust in enumerate(train[\"customer_id\"].unique()):\n",
        "  customer_dict[cust] = i"
      ],
      "execution_count": null,
      "outputs": []
    },
    {
      "cell_type": "code",
      "metadata": {
        "id": "ELo_NmQng0HF"
      },
      "source": [
        "cust_avg = train.groupby(\"customer_id\")[\"score\"].mean()\n",
        "song_avg = train.groupby(\"song_id\")[\"score\"].mean()"
      ],
      "execution_count": null,
      "outputs": []
    },
    {
      "cell_type": "code",
      "metadata": {
        "id": "1Q7oxfxR8JdP"
      },
      "source": [
        "scores = np.zeros((14053, 10001))\n",
        "for index,row in train.iterrows():\n",
        "  s_id = int(row[\"song_id\"])\n",
        "  c_id = int(customer_dict[row[\"customer_id\"]])\n",
        "  scores[c_id][s_id] = row[\"score\"]\n",
        "\n",
        "lang_scores = np.zeros((14053, 10001))\n"
      ],
      "execution_count": null,
      "outputs": []
    },
    {
      "cell_type": "code",
      "metadata": {
        "id": "2F8wgcUJu3-c"
      },
      "source": [
        "X = scores.copy()\n",
        "latent_features = 500\n",
        "max_iter=50\n",
        "error_limit=0.5\n",
        "fit_error_limit=0.5\n",
        "\n",
        "eps = 1e-5\n",
        "print('Starting NMF decomposition with {} latent features and {} iterations.'.format(latent_features, max_iter))\n",
        "\n",
        "# mask\n",
        "mask = np.sign(X)\n",
        "\n",
        "# initial matrices. A is random [0,1] and Y is A\\X.\n",
        "rows, columns = X.shape\n",
        "np.random.seed(0)\n",
        "A = np.random.rand(rows, latent_features)\n",
        "A = np.maximum(A, eps)\n",
        "\n",
        "Y = linalg.lstsq(A, X)[0]\n",
        "Y = np.maximum(Y, eps)\n",
        "\n",
        "masked_X = mask * X\n",
        "X_est_prev = dot(A, Y)\n",
        "for i in range(1, max_iter + 1):\n",
        "\n",
        "  # ===== updates =====\n",
        "  # Matlab: A=A.*(((W.*X)*Y')./((W.*(A*Y))*Y'));\n",
        "  top = dot(masked_X, Y.T)\n",
        "  bottom = (dot((mask * dot(A, Y)), Y.T)) + eps\n",
        "  A *= top / bottom\n",
        "\n",
        "  A = np.maximum(A, eps)\n",
        "  # print 'A',  np.round(A, 2)\n",
        "\n",
        "  # Matlab: Y=Y.*((A'*(W.*X))./(A'*(W.*(A*Y))));\n",
        "  top = dot(A.T, masked_X)\n",
        "  bottom = dot(A.T, mask * dot(A, Y)) + eps\n",
        "  Y *= top / bottom\n",
        "  Y = np.maximum(Y, eps)\n",
        "  # print 'Y', np.round(Y, 2)\n",
        "\n",
        "\n",
        "  # ==== evaluation ====\n",
        "  if i % 5 == 0 or i == 1 or i == max_iter:\n",
        "    print('Iteration {}:'.format(i),)\n",
        "    X_est = dot(A, Y)\n",
        "    err = mask * (X_est_prev - X_est)\n",
        "    fit_residual = np.sqrt(np.sum(err ** 2))\n",
        "    X_est_prev = X_est\n",
        "\n",
        "    curRes = linalg.norm(mask * (X - X_est), ord='fro')\n",
        "    print('fit residual', np.round(fit_residual, 4),)\n",
        "    print('total residual', np.round(curRes, 4))\n",
        "    if curRes < error_limit or fit_residual < fit_error_limit:\n",
        "        break"
      ],
      "execution_count": null,
      "outputs": []
    },
    {
      "cell_type": "code",
      "metadata": {
        "id": "K29UTNKc5zBH"
      },
      "source": [
        "new_scores1 = np.dot(A,Y)"
      ],
      "execution_count": null,
      "outputs": []
    },
    {
      "cell_type": "code",
      "metadata": {
        "id": "o2sdUBVv9M89"
      },
      "source": [
        "test_scores = []\n",
        "ca = []\n",
        "sa = []\n",
        "for index,row in test.iterrows():\n",
        "  s_id = int(row[\"song_id\"])\n",
        "  c_id = int(customer_dict[row[\"customer_id\"]])\n",
        "  test_scores.append(min(5,new_scores[c_id][s_id]))\n",
        "  ca.append(cust_avg[row[\"customer_id\"]])\n",
        "  sa.append(song_avg[s_id])"
      ],
      "execution_count": null,
      "outputs": []
    },
    {
      "cell_type": "code",
      "metadata": {
        "id": "8j3aH56a-Xsc"
      },
      "source": [
        "dummy = {\"score\" : test_scores}\n",
        "predictions = pd.DataFrame(dummy, columns = ['score'])\n",
        "predictions.index.name = \"test_row_id\""
      ],
      "execution_count": null,
      "outputs": []
    },
    {
      "cell_type": "code",
      "metadata": {
        "id": "TsjqOyP--eC2"
      },
      "source": [
        "predictions.to_csv(\"/content/drive/MyDrive/Kaggle PRML/Dataset/test_file.csv\")"
      ],
      "execution_count": null,
      "outputs": []
    },
    {
      "cell_type": "code",
      "metadata": {
        "id": "NeXrZsDpjaeq"
      },
      "source": [
        "dummy = {\"score\" : test_scores, \"ca\" : ca, \"sa\" : sa}\n",
        "predictions = pd.DataFrame(dummy, columns = ['score','ca','sa'])\n",
        "predictions.index.name = \"test_row_id\""
      ],
      "execution_count": null,
      "outputs": []
    },
    {
      "cell_type": "code",
      "metadata": {
        "id": "Sr7V5IsSYJNe"
      },
      "source": [
        "s_label = [0]*10001\n",
        "max_count = [0]*10001\n",
        "for index,row in song_labels.iterrows():\n",
        "  try:\n",
        "    ind = platform_dict[row[\"platform_id\"]]\n",
        "    if max_count[ind] < int(row[\"count\"]):\n",
        "      max_count[ind] = int(row[\"count\"])\n",
        "      s_label[ind] = int(row[\"label_id\"])\n",
        "      break\n",
        "  except:\n",
        "    pass"
      ],
      "execution_count": null,
      "outputs": []
    },
    {
      "cell_type": "code",
      "metadata": {
        "colab": {
          "base_uri": "https://localhost:8080/"
        },
        "id": "DQYj0dueagl0",
        "outputId": "8ffd7ecb-fe62-44ea-b25b-9c2ac08a451f"
      },
      "source": [
        "songs['released_year'].isna().sum()"
      ],
      "execution_count": null,
      "outputs": [
        {
          "output_type": "execute_result",
          "data": {
            "text/plain": [
              "16"
            ]
          },
          "metadata": {
            "tags": []
          },
          "execution_count": 9
        }
      ]
    }
  ]
}